{
 "cells": [
  {
   "cell_type": "code",
   "id": "initial_id",
   "metadata": {
    "collapsed": true,
    "ExecuteTime": {
     "end_time": "2025-05-20T23:46:31.164690Z",
     "start_time": "2025-05-20T23:46:30.849650Z"
    }
   },
   "source": [
    "import requests\n",
    "\n",
    "url = \"https://www.youtube.com/watch?v=YY3gz0j3qBQ\""
   ],
   "outputs": [],
   "execution_count": 1
  },
  {
   "metadata": {
    "ExecuteTime": {
     "end_time": "2025-05-20T23:48:41.283552Z",
     "start_time": "2025-05-20T23:48:40.581155Z"
    }
   },
   "cell_type": "code",
   "source": [
    "response = requests.get(\n",
    "    url=url,\n",
    "    proxies={\n",
    "        'http': 'http://127.0.0.1:8881',\n",
    "        'https': 'http://127.0.0.1:8881'\n",
    "    }\n",
    ")\n"
   ],
   "id": "a8daac004763493",
   "outputs": [],
   "execution_count": 5
  },
  {
   "metadata": {
    "ExecuteTime": {
     "end_time": "2025-05-20T23:46:33.668126Z",
     "start_time": "2025-05-20T23:46:33.661750Z"
    }
   },
   "cell_type": "code",
   "source": "response.status_code",
   "id": "86633925abb84841",
   "outputs": [
    {
     "data": {
      "text/plain": [
       "200"
      ]
     },
     "execution_count": 3,
     "metadata": {},
     "output_type": "execute_result"
    }
   ],
   "execution_count": 3
  },
  {
   "metadata": {},
   "cell_type": "code",
   "outputs": [],
   "execution_count": null,
   "source": "",
   "id": "2c8fa8c528cf03af"
  }
 ],
 "metadata": {
  "kernelspec": {
   "display_name": "Python 3",
   "language": "python",
   "name": "python3"
  },
  "language_info": {
   "codemirror_mode": {
    "name": "ipython",
    "version": 2
   },
   "file_extension": ".py",
   "mimetype": "text/x-python",
   "name": "python",
   "nbconvert_exporter": "python",
   "pygments_lexer": "ipython2",
   "version": "2.7.6"
  }
 },
 "nbformat": 4,
 "nbformat_minor": 5
}
